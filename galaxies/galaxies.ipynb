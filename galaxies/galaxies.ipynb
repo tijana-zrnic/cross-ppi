{
 "cells": [
  {
   "cell_type": "code",
   "execution_count": null,
   "id": "298f8cd7",
   "metadata": {},
   "outputs": [],
   "source": [
    "import pandas as pd\n",
    "import numpy as np\n",
    "from scipy.stats import norm\n",
    "import seaborn as sns\n",
    "import matplotlib.pyplot as plt\n",
    "import os, sys"
   ]
  },
  {
   "cell_type": "markdown",
   "id": "b47e5cd1",
   "metadata": {},
   "source": [
    "## Read data and construct confidence intervals"
   ]
  },
  {
   "cell_type": "code",
   "execution_count": null,
   "id": "68e1e8b5",
   "metadata": {},
   "outputs": [],
   "source": [
    "alpha = 0.1\n",
    "ns = [10000, 20000, 30000]\n",
    "N_total = 167434\n",
    "trials = 100\n",
    "K = 3 # number of folds\n",
    "theta_star = 0.2622 # computed on galaxy zoo 2\n",
    "\n",
    "data_dir = 'data/cross-prediction-outputs/'\n",
    "\n",
    "columns = [\"lb\",\"ub\",\"coverage\",\"estimator\",\"n\"]\n",
    "temp_df = pd.DataFrame(np.zeros((3,len(columns))), columns=columns)\n",
    "    \n",
    "results = []\n",
    "\n",
    "for n in ns:\n",
    "    \n",
    "    n_val = int(n*0.9)\n",
    "    n_tr = n - n_val\n",
    "    N = N_total - n\n",
    "    fold_size = n//K\n",
    "    \n",
    "    for i in range(trials):\n",
    "        \n",
    "\n",
    "        Y = np.zeros(n)\n",
    "        Yhat = np.zeros(n)\n",
    "        Yhat_unlabeled = np.zeros(N)\n",
    "\n",
    "        for k in range(K):\n",
    "            filename = data_dir + f\"crosspredict_{i}_{n}_{k}.npz\"\n",
    "            data_temp = np.load(filename)\n",
    "            Y[k*fold_size:(k+1)*fold_size] = data_temp['labels_val']\n",
    "            Yhat[k*fold_size:(k+1)*fold_size] = data_temp['preds_val']\n",
    "            Yhat_unlabeled += data_temp['preds_unlabeled'] / K\n",
    "\n",
    "        point_est = Yhat_unlabeled.mean() + (Y - Yhat).mean()\n",
    "        halfwidth = norm.ppf(1-alpha/2) * np.sqrt(np.var(Yhat_unlabeled)/N + np.var(Y - Yhat)/n)\n",
    "        cp_ci_l = point_est - halfwidth\n",
    "        cp_ci_u = point_est + halfwidth\n",
    "        \n",
    "        temp_df.loc[0] = cp_ci_l, cp_ci_u, (cp_ci_l <= theta_star) & (theta_star <= cp_ci_u), \"cross-prediction\", n\n",
    "        \n",
    "\n",
    "        classical_point_est = Y.mean()\n",
    "        classical_halfwidth = norm.ppf(1-alpha/2) * np.sqrt(np.var(Y)/n)\n",
    "        classical_ci_l = classical_point_est - classical_halfwidth\n",
    "        classical_ci_u = classical_point_est + classical_halfwidth\n",
    "\n",
    "        temp_df.loc[1] = classical_ci_l, classical_ci_u, (classical_ci_l <= theta_star) & (theta_star <= classical_ci_u), \"classical\", n\n",
    "\n",
    "\n",
    "        \n",
    "        filename = data_dir + f\"ppi_{i}_{n}.npz\"\n",
    "        data_temp = np.load(filename)\n",
    "        Y = data_temp['labels_val']\n",
    "        Yhat = data_temp['preds_val']\n",
    "        Yhat_unlabeled = data_temp['preds_unlabeled']\n",
    "\n",
    "        point_est = Yhat_unlabeled.mean() + (Y - Yhat).mean()\n",
    "        halfwidth = norm.ppf(1-alpha/2) * np.sqrt(np.var(Yhat_unlabeled)/N + np.var(Y - Yhat)/n_val)\n",
    "        ppi_ci_l = point_est - halfwidth\n",
    "        ppi_ci_u = point_est + halfwidth\n",
    "        \n",
    "\n",
    "        temp_df.loc[2] = ppi_ci_l, ppi_ci_u, (ppi_ci_l <= theta_star) & (theta_star <= ppi_ci_u), \"PPI\", n\n",
    "        \n",
    "        results += [temp_df.copy()]\n",
    "final_df = pd.concat(results,ignore_index=True)\n",
    "final_df[\"width\"] = final_df[\"ub\"] - final_df[\"lb\"]"
   ]
  },
  {
   "cell_type": "markdown",
   "id": "1d979904",
   "metadata": {},
   "source": [
    "## Plot results"
   ]
  },
  {
   "cell_type": "code",
   "execution_count": null,
   "id": "39a0e342",
   "metadata": {},
   "outputs": [],
   "source": [
    "col = np.array([sns.color_palette(\"Set2\")[1], sns.color_palette(\"Set2\")[2], sns.color_palette(\"Set2\")[0]])\n",
    "sns.set_theme(font_scale=1.4, style='white', palette=col, rc={'lines.linewidth': 3})\n",
    "# defaults = {'n': 100, 'beta': 0}\n",
    "fig, axs = plt.subplots(nrows=1, ncols=2, figsize=(10,3.3))\n",
    "sns.lineplot(ax=axs[0],data=final_df, x='n', y='coverage', hue='estimator', alpha=0.9, errorbar=None, marker=\"*\", markersize=14)\n",
    "sns.lineplot(ax=axs[1],data=final_df, x='n', y='width', hue='estimator', alpha=0.9, marker=\"*\", markersize=14)\n",
    "\n",
    "axs[0].axhline(1-alpha, color=\"#888888\", linestyle='dashed', zorder=1, alpha=0.9)\n",
    "handles, labels = axs[1].get_legend_handles_labels()\n",
    "axs[1].legend(handles=handles, labels=labels)\n",
    "axs[0].get_legend().remove()\n",
    "axs[0].set_ylim([0.5,1])\n",
    "\n",
    "axs[0].lines[0].set_linestyle(\"--\")\n",
    "axs[1].lines[0].set_linestyle(\"--\")\n",
    "axs[0].lines[1].set_linestyle(\"--\")\n",
    "axs[1].lines[1].set_linestyle(\"--\")\n",
    "axs[0].lines[2].set_linestyle(\"--\")\n",
    "axs[1].lines[2].set_linestyle(\"--\")\n",
    "\n",
    "sns.despine(top=True, right=True)\n",
    "plt.tight_layout()\n",
    "\n",
    "# save plot\n",
    "os.makedirs('./galaxies_results/', exist_ok=True)\n",
    "plt.savefig('./galaxies_results/galaxy_comparison.pdf')\n",
    "plt.show()"
   ]
  },
  {
   "cell_type": "code",
   "execution_count": null,
   "id": "b861604d",
   "metadata": {},
   "outputs": [],
   "source": []
  }
 ],
 "metadata": {
  "kernelspec": {
   "display_name": "Python 3 (ipykernel)",
   "language": "python",
   "name": "python3"
  },
  "language_info": {
   "codemirror_mode": {
    "name": "ipython",
    "version": 3
   },
   "file_extension": ".py",
   "mimetype": "text/x-python",
   "name": "python",
   "nbconvert_exporter": "python",
   "pygments_lexer": "ipython3",
   "version": "3.8.15"
  }
 },
 "nbformat": 4,
 "nbformat_minor": 5
}
